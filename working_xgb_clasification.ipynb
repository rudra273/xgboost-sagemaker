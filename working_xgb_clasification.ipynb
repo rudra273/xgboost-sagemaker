{
 "cells": [
  {
   "cell_type": "code",
   "execution_count": null,
   "metadata": {
    "vscode": {
     "languageId": "plaintext"
    }
   },
   "outputs": [],
   "source": [
    "!pip install mlflow xgboost \"scikit-learn==1.3.1\""
   ]
  },
  {
   "cell_type": "code",
   "execution_count": null,
   "metadata": {
    "vscode": {
     "languageId": "plaintext"
    }
   },
   "outputs": [],
   "source": [
    "!pip install --upgrade --quiet sagemaker>=2.215.0"
   ]
  },
  {
   "cell_type": "code",
   "execution_count": null,
   "metadata": {
    "vscode": {
     "languageId": "plaintext"
    }
   },
   "outputs": [],
   "source": [
    "!pip install mlflow==2.13.2 sagemaker-mlflow==0.1.0"
   ]
  },
  {
   "cell_type": "code",
   "execution_count": null,
   "metadata": {
    "vscode": {
     "languageId": "plaintext"
    }
   },
   "outputs": [],
   "source": [
    "! pip install scipy==1.8.0"
   ]
  },
  {
   "cell_type": "code",
   "execution_count": null,
   "metadata": {
    "vscode": {
     "languageId": "plaintext"
    }
   },
   "outputs": [],
   "source": [
    "import mlflow.xgboost\n",
    "from sklearn.datasets import load_iris\n",
    "from sklearn.model_selection import train_test_split\n",
    "from sklearn.metrics import accuracy_score\n",
    "import xgboost as xgb\n",
    "import pandas as pd\n",
    "import os\n",
    "import mlflow\n",
    "from mlflow import MlflowClient\n",
    "import sagemaker\n",
    "from sagemaker.serve import SchemaBuilder\n",
    "from sagemaker.serve import ModelBuilder\n",
    "from sagemaker.serve.mode.function_pointers import Mode\n",
    "import numpy as np"
   ]
  },
  {
   "cell_type": "code",
   "execution_count": null,
   "metadata": {
    "vscode": {
     "languageId": "plaintext"
    }
   },
   "outputs": [],
   "source": [
    "# Step 1: Load data\n",
    "data = load_iris()\n",
    "X = pd.DataFrame(data.data, columns=data.feature_names)\n",
    "y = data.target\n",
    "\n",
    "# Split the data\n",
    "X_train, X_test, y_train, y_test = train_test_split(X, y, test_size=0.2, random_state=42)"
   ]
  },
  {
   "cell_type": "code",
   "execution_count": null,
   "metadata": {
    "vscode": {
     "languageId": "plaintext"
    }
   },
   "outputs": [],
   "source": [
    "# Step 2: Train XGBoost model\n",
    "model = xgb.XGBClassifier(use_label_encoder=False, eval_metric='logloss')\n",
    "model.fit(X_train, y_train)"
   ]
  },
  {
   "cell_type": "code",
   "execution_count": null,
   "metadata": {
    "vscode": {
     "languageId": "plaintext"
    }
   },
   "outputs": [],
   "source": [
    "tracking_uri='arn:aws:sagemaker:us-east-1:750573229682:mlflow-tracking-server/mlflow-tracking-server-sagemaker-poc'\n",
    "mlflow.set_tracking_uri(tracking_uri) "
   ]
  },
  {
   "cell_type": "code",
   "execution_count": null,
   "metadata": {
    "vscode": {
     "languageId": "plaintext"
    }
   },
   "outputs": [],
   "source": [
    "# Step 3: Log model in MLflow\n",
    "mlflow.set_experiment(\"xgboost_iris_experiment\")\n",
    "with mlflow.start_run() as run:\n",
    "    # Log model\n",
    "    mlflow.xgboost.log_model(model, artifact_path=\"xgboost_model\")\n",
    "    print(f\"Model logged in MLflow with run ID: {mlflow.active_run().info.run_id}\")\n",
    "    run_id = run.info.run_id"
   ]
  },
  {
   "cell_type": "code",
   "execution_count": null,
   "metadata": {
    "vscode": {
     "languageId": "plaintext"
    }
   },
   "outputs": [],
   "source": [
    "## testing through mlflow  \n",
    "## Step 4: Load model from MLflow\n",
    "## run_id = mlflow.active_run().info.run_id\n",
    "# model_uri = f\"runs:/{run_id}/xgboost_model\"\n",
    "# loaded_model = mlflow.xgboost.load_model(model_uri)\n",
    "\n",
    "## Step 5: Predict on multiple samples one by one\n",
    "# samples = X_test.iloc[:5]  # Select first 5 samples from the test set\n",
    "\n",
    "# print(\"Predictions:\")\n",
    "# for i, sample in samples.iterrows():\n",
    "#     sample = sample.values.reshape(1, -1)\n",
    "#     prediction = loaded_model.predict(sample)\n",
    "#     print(f\"Sample {i}: Predicted class = {prediction[0]}\")\n",
    "\n",
    "## Evaluate model accuracy\n",
    "# y_pred = loaded_model.predict(X_test)\n",
    "# accuracy = accuracy_score(y_test, y_pred)\n",
    "# print(f\"Model accuracy on test set: {accuracy}\")"
   ]
  },
  {
   "cell_type": "code",
   "execution_count": null,
   "metadata": {
    "vscode": {
     "languageId": "plaintext"
    }
   },
   "outputs": [],
   "source": [
    "# create Schema\n",
    "iris_input = np.array([1.0, 2.0, 3.0, 4.0]).reshape(1, -1)\n",
    "iris_output = 1\n",
    "iris_schema_builder = SchemaBuilder(\n",
    "    sample_input=iris_input,\n",
    "    sample_output=iris_output,\n",
    ")"
   ]
  },
  {
   "cell_type": "code",
   "execution_count": null,
   "metadata": {
    "vscode": {
     "languageId": "plaintext"
    }
   },
   "outputs": [],
   "source": [
    "role = 'arn:aws:iam::750573229682:role/service-role/AmazonSageMaker-ExecutionRole-20241211T150457'"
   ]
  },
  {
   "cell_type": "code",
   "execution_count": null,
   "metadata": {
    "vscode": {
     "languageId": "plaintext"
    }
   },
   "outputs": [],
   "source": [
    "model_path='s3://sagemaker-studio-750573229682-fffkyjouino/models/67/ac9a6bbc157d485a98880e6861ff554c/artifacts/xgboost_model'"
   ]
  },
  {
   "cell_type": "code",
   "execution_count": null,
   "metadata": {
    "vscode": {
     "languageId": "plaintext"
    }
   },
   "outputs": [],
   "source": [
    "# Create a ModelBuilder instance for deploying the model\n",
    "model_builder = ModelBuilder(\n",
    "    mode=Mode.SAGEMAKER_ENDPOINT,\n",
    "    schema_builder=iris_schema_builder,\n",
    "    model_metadata={\n",
    "        \"MLFLOW_MODEL_PATH\": model_path, \n",
    "    },\n",
    "    role_arn=role  \n",
    ")"
   ]
  },
  {
   "cell_type": "code",
   "execution_count": null,
   "metadata": {
    "vscode": {
     "languageId": "plaintext"
    }
   },
   "outputs": [],
   "source": [
    "built_model = model_builder.build()"
   ]
  },
  {
   "cell_type": "code",
   "execution_count": null,
   "metadata": {
    "vscode": {
     "languageId": "plaintext"
    }
   },
   "outputs": [],
   "source": [
    "# Deploy the model\n",
    "predictor = built_model.deploy(\n",
    "    initial_instance_count=1, \n",
    "    instance_type=\"ml.m5.large\"\n",
    "    # Type of SageMaker instance\n",
    ")"
   ]
  },
  {
   "cell_type": "code",
   "execution_count": null,
   "metadata": {
    "vscode": {
     "languageId": "plaintext"
    }
   },
   "outputs": [],
   "source": [
    "iris_input = np.array([1.0, 2.0, 3.0, 4.0]).reshape(1, -1)\n",
    "predictor.predict(iris_input)"
   ]
  }
 ],
 "metadata": {
  "language_info": {
   "name": "python"
  }
 },
 "nbformat": 4,
 "nbformat_minor": 2
}
